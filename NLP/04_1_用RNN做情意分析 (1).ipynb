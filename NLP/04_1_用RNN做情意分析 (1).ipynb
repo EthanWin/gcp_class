{
  "nbformat": 4,
  "nbformat_minor": 0,
  "metadata": {
    "anaconda-cloud": {},
    "kernelspec": {
      "name": "python3",
      "display_name": "Python 3"
    },
    "language_info": {
      "codemirror_mode": {
        "name": "ipython",
        "version": 3
      },
      "file_extension": ".py",
      "mimetype": "text/x-python",
      "name": "python",
      "nbconvert_exporter": "python",
      "pygments_lexer": "ipython3",
      "version": "3.5.5"
    },
    "colab": {
      "name": "04_1_用RNN做情意分析.ipynb",
      "provenance": [],
      "collapsed_sections": []
    },
    "accelerator": "GPU"
  },
  "cells": [
    {
      "cell_type": "markdown",
      "metadata": {
        "id": "VMa_EnvAXNa1",
        "colab_type": "text"
      },
      "source": [
        "# 主題 04-1. 用RNN做情意分析\n",
        "\n",
        "我們終於要介紹三大神經網路的最後一個, 也就是 RNN。RNN 有不少的變型, 例如 LSTM 和 GRU 等等, 不過我們都通稱叫 RNN。RNN 是一種「有記憶」的神經網路, 非常適合時間序列啦, 或是不定長度的輸入資料。\n",
        "\n",
        "我們來看看怎麼樣用 RNN 做電影評論的「情意分析」, 也就是知道一則評論究竟是「正評」還是「負評」。"
      ]
    },
    {
      "cell_type": "markdown",
      "metadata": {
        "id": "AUxb2mYyXNa2",
        "colab_type": "text"
      },
      "source": [
        "## 1. 初始準備\n",
        "\n",
        "基本上和之前是一樣的, 我們就不再說明。"
      ]
    },
    {
      "cell_type": "code",
      "metadata": {
        "id": "f4XHYaMmYFW9",
        "colab_type": "code",
        "outputId": "3e87dde4-be8b-4c99-e53b-c61d71a25b5a",
        "colab": {
          "base_uri": "https://localhost:8080/",
          "height": 124
        }
      },
      "source": [
        "from google.colab import drive\n",
        "drive.mount('/content/drive', force_remount=True)"
      ],
      "execution_count": 1,
      "outputs": [
        {
          "output_type": "stream",
          "text": [
            "Go to this URL in a browser: https://accounts.google.com/o/oauth2/auth?client_id=947318989803-6bn6qk8qdgf4n4g3pfee6491hc0brc4i.apps.googleusercontent.com&redirect_uri=urn%3aietf%3awg%3aoauth%3a2.0%3aoob&response_type=code&scope=email%20https%3a%2f%2fwww.googleapis.com%2fauth%2fdocs.test%20https%3a%2f%2fwww.googleapis.com%2fauth%2fdrive%20https%3a%2f%2fwww.googleapis.com%2fauth%2fdrive.photos.readonly%20https%3a%2f%2fwww.googleapis.com%2fauth%2fpeopleapi.readonly\n",
            "\n",
            "Enter your authorization code:\n",
            "··········\n",
            "Mounted at /content/drive\n"
          ],
          "name": "stdout"
        }
      ]
    },
    {
      "cell_type": "code",
      "metadata": {
        "id": "XWK_QYrkbWTl",
        "colab_type": "code",
        "colab": {
          "base_uri": "https://localhost:8080/",
          "height": 243
        },
        "outputId": "715ed84b-edb4-45a5-f4e3-15470803e9d3"
      },
      "source": [
        "! ln -fs /content/drive/\"My Drive\"/\"Colab Notebooks\"/Datascience /app\n",
        "!tar -xzvf /app/cuDNN/cudnn-10.0-linux-x64-v7.5.0.56.tgz -C /usr/local/\n",
        "!chmod a+r /usr/local/cuda/include/cudnn.h\n",
        "\n",
        "# Check if install CUDA Driver\n",
        "!cat /usr/local/cuda/include/cudnn.h | grep CUDNN_MAJOR -A 2"
      ],
      "execution_count": 2,
      "outputs": [
        {
          "output_type": "stream",
          "text": [
            "cuda/include/cudnn.h\n",
            "cuda/NVIDIA_SLA_cuDNN_Support.txt\n",
            "cuda/lib64/libcudnn.so\n",
            "cuda/lib64/libcudnn.so.7\n",
            "cuda/lib64/libcudnn.so.7.5.0\n",
            "cuda/lib64/libcudnn_static.a\n",
            "#define CUDNN_MAJOR 7\n",
            "#define CUDNN_MINOR 5\n",
            "#define CUDNN_PATCHLEVEL 0\n",
            "--\n",
            "#define CUDNN_VERSION (CUDNN_MAJOR * 1000 + CUDNN_MINOR * 100 + CUDNN_PATCHLEVEL)\n",
            "\n",
            "#include \"driver_types.h\"\n"
          ],
          "name": "stdout"
        }
      ]
    },
    {
      "cell_type": "code",
      "metadata": {
        "id": "gcYZfjnoYgiR",
        "colab_type": "code",
        "outputId": "173ba1a9-a794-4443-cf1f-4a033c217a59",
        "colab": {
          "base_uri": "https://localhost:8080/",
          "height": 225
        }
      },
      "source": [
        "%cd /app\n",
        "! wget https://raw.githubusercontent.com/bojone/keras_lookahead/master/lookahead.py"
      ],
      "execution_count": 3,
      "outputs": [
        {
          "output_type": "stream",
          "text": [
            "/content/drive/My Drive/Colab Notebooks/Datascience\n",
            "--2020-01-02 13:33:12--  https://raw.githubusercontent.com/bojone/keras_lookahead/master/lookahead.py\n",
            "Resolving raw.githubusercontent.com (raw.githubusercontent.com)... 151.101.0.133, 151.101.64.133, 151.101.128.133, ...\n",
            "Connecting to raw.githubusercontent.com (raw.githubusercontent.com)|151.101.0.133|:443... connected.\n",
            "HTTP request sent, awaiting response... 200 OK\n",
            "Length: 2582 (2.5K) [text/plain]\n",
            "Saving to: ‘lookahead.py.1’\n",
            "\n",
            "lookahead.py.1      100%[===================>]   2.52K  --.-KB/s    in 0.001s  \n",
            "\n",
            "2020-01-02 13:33:13 (4.51 MB/s) - ‘lookahead.py.1’ saved [2582/2582]\n",
            "\n"
          ],
          "name": "stdout"
        }
      ]
    },
    {
      "cell_type": "code",
      "metadata": {
        "id": "TEkqYDcWXNa3",
        "colab_type": "code",
        "outputId": "2b855919-310c-4dda-8846-cd54c5b78c23",
        "colab": {
          "base_uri": "https://localhost:8080/",
          "height": 99
        }
      },
      "source": [
        "%env KERAS_BACKEND=tensorflow\n",
        "from lookahead import *"
      ],
      "execution_count": 4,
      "outputs": [
        {
          "output_type": "stream",
          "text": [
            "env: KERAS_BACKEND=tensorflow\n"
          ],
          "name": "stdout"
        },
        {
          "output_type": "stream",
          "text": [
            "Using TensorFlow backend.\n"
          ],
          "name": "stderr"
        },
        {
          "output_type": "display_data",
          "data": {
            "text/html": [
              "<p style=\"color: red;\">\n",
              "The default version of TensorFlow in Colab will soon switch to TensorFlow 2.x.<br>\n",
              "We recommend you <a href=\"https://www.tensorflow.org/guide/migrate\" target=\"_blank\">upgrade</a> now \n",
              "or ensure your notebook will continue to use TensorFlow 1.x via the <code>%tensorflow_version 1.x</code> magic:\n",
              "<a href=\"https://colab.research.google.com/notebooks/tensorflow_version.ipynb\" target=\"_blank\">more info</a>.</p>\n"
            ],
            "text/plain": [
              "<IPython.core.display.HTML object>"
            ]
          },
          "metadata": {
            "tags": []
          }
        }
      ]
    },
    {
      "cell_type": "code",
      "metadata": {
        "nbpresent": {
          "id": "a73ce944-1f06-4b48-91eb-da5ff43936f9"
        },
        "id": "mwCAwIX_XNa7",
        "colab_type": "code",
        "colab": {}
      },
      "source": [
        "%matplotlib inline\n",
        "import numpy as np\n",
        "import matplotlib.pyplot as plt"
      ],
      "execution_count": 0,
      "outputs": []
    },
    {
      "cell_type": "markdown",
      "metadata": {
        "id": "ztWIpEHJXNa9",
        "colab_type": "text"
      },
      "source": [
        "## 2. 讀入 IMDB 電影數據庫\n",
        "\n",
        "今天我們要評入 IMDB 電影數據庫影評的部份。"
      ]
    },
    {
      "cell_type": "code",
      "metadata": {
        "id": "czXAbHLNXNa-",
        "colab_type": "code",
        "colab": {}
      },
      "source": [
        "from keras.datasets import imdb"
      ],
      "execution_count": 0,
      "outputs": []
    },
    {
      "cell_type": "code",
      "metadata": {
        "id": "zhm2jUi8XNbA",
        "colab_type": "code",
        "outputId": "74b52046-28c8-44d8-9a51-3f78923a4a63",
        "colab": {
          "base_uri": "https://localhost:8080/",
          "height": 52
        }
      },
      "source": [
        "(x_train, y_train), (x_test, y_test) = imdb.load_data(num_words=10000)"
      ],
      "execution_count": 7,
      "outputs": [
        {
          "output_type": "stream",
          "text": [
            "Downloading data from https://s3.amazonaws.com/text-datasets/imdb.npz\n",
            "17465344/17464789 [==============================] - 0s 0us/step\n"
          ],
          "name": "stdout"
        }
      ]
    },
    {
      "cell_type": "markdown",
      "metadata": {
        "id": "WSm98WsDXNbD",
        "colab_type": "text"
      },
      "source": [
        "要注意這裡我們限制只選「最常用」1 萬字, 也就是超過這範圍的就當不存在。這是文字分析常會做的事。"
      ]
    },
    {
      "cell_type": "code",
      "metadata": {
        "id": "iSNQkKBvXNbD",
        "colab_type": "code",
        "outputId": "84610d92-1b30-49ef-9bd2-1b839506bde2",
        "colab": {
          "base_uri": "https://localhost:8080/",
          "height": 52
        }
      },
      "source": [
        "print(\"訓練資料總筆數 =\", len(x_train))\n",
        "print(\"測試資料總筆數 =\", len(x_test))"
      ],
      "execution_count": 8,
      "outputs": [
        {
          "output_type": "stream",
          "text": [
            "訓練資料總筆數 = 25000\n",
            "測試資料總筆數 = 25000\n"
          ],
          "name": "stdout"
        }
      ]
    },
    {
      "cell_type": "markdown",
      "metadata": {
        "id": "JwJOeCMlXNbG",
        "colab_type": "text"
      },
      "source": [
        "### 2.1 輸入資料部份\n",
        "\n",
        "我們來看一下輸入部份長什麼樣子?"
      ]
    },
    {
      "cell_type": "code",
      "metadata": {
        "id": "jVcmYrGRXNbG",
        "colab_type": "code",
        "outputId": "1b77323b-2f06-4108-bd8f-654cf44e43e7",
        "colab": {
          "base_uri": "https://localhost:8080/",
          "height": 1000
        }
      },
      "source": [
        "x_train[99]"
      ],
      "execution_count": 8,
      "outputs": [
        {
          "output_type": "execute_result",
          "data": {
            "text/plain": [
              "[1,\n",
              " 1230,\n",
              " 3765,\n",
              " 566,\n",
              " 97,\n",
              " 189,\n",
              " 102,\n",
              " 86,\n",
              " 7,\n",
              " 32,\n",
              " 4,\n",
              " 973,\n",
              " 16,\n",
              " 55,\n",
              " 355,\n",
              " 18,\n",
              " 14,\n",
              " 20,\n",
              " 4,\n",
              " 64,\n",
              " 542,\n",
              " 173,\n",
              " 16,\n",
              " 4,\n",
              " 893,\n",
              " 2115,\n",
              " 5376,\n",
              " 250,\n",
              " 39,\n",
              " 8013,\n",
              " 4,\n",
              " 1362,\n",
              " 2,\n",
              " 14,\n",
              " 102,\n",
              " 47,\n",
              " 57,\n",
              " 599,\n",
              " 633,\n",
              " 6,\n",
              " 1317,\n",
              " 2,\n",
              " 8,\n",
              " 6,\n",
              " 189,\n",
              " 20,\n",
              " 57,\n",
              " 206,\n",
              " 57,\n",
              " 116,\n",
              " 5,\n",
              " 57,\n",
              " 836,\n",
              " 82,\n",
              " 6,\n",
              " 1317,\n",
              " 2,\n",
              " 3728,\n",
              " 2,\n",
              " 9,\n",
              " 6,\n",
              " 52,\n",
              " 284,\n",
              " 21,\n",
              " 29,\n",
              " 9,\n",
              " 38,\n",
              " 2245,\n",
              " 5,\n",
              " 1044,\n",
              " 11,\n",
              " 14,\n",
              " 15,\n",
              " 45,\n",
              " 619,\n",
              " 50,\n",
              " 71,\n",
              " 6,\n",
              " 171,\n",
              " 531,\n",
              " 15,\n",
              " 71,\n",
              " 424,\n",
              " 8,\n",
              " 30,\n",
              " 163,\n",
              " 6211,\n",
              " 4,\n",
              " 1629,\n",
              " 189,\n",
              " 212,\n",
              " 102,\n",
              " 5,\n",
              " 57,\n",
              " 31,\n",
              " 1498,\n",
              " 11,\n",
              " 4,\n",
              " 311,\n",
              " 13,\n",
              " 197,\n",
              " 15,\n",
              " 14,\n",
              " 20,\n",
              " 16,\n",
              " 1150,\n",
              " 1479,\n",
              " 5,\n",
              " 13,\n",
              " 161,\n",
              " 990,\n",
              " 692,\n",
              " 5,\n",
              " 1706,\n",
              " 12,\n",
              " 69,\n",
              " 77,\n",
              " 1194,\n",
              " 8,\n",
              " 3245,\n",
              " 2001,\n",
              " 553,\n",
              " 67,\n",
              " 14,\n",
              " 20,\n",
              " 48,\n",
              " 25,\n",
              " 423,\n",
              " 13,\n",
              " 131,\n",
              " 124,\n",
              " 51,\n",
              " 25,\n",
              " 122,\n",
              " 236,\n",
              " 1506,\n",
              " 198,\n",
              " 4,\n",
              " 64,\n",
              " 552,\n",
              " 7,\n",
              " 415,\n",
              " 37,\n",
              " 62,\n",
              " 169,\n",
              " 14,\n",
              " 20,\n",
              " 60,\n",
              " 2602,\n",
              " 629,\n",
              " 5,\n",
              " 615,\n",
              " 14,\n",
              " 9,\n",
              " 8,\n",
              " 25,\n",
              " 1230,\n",
              " 3765,\n",
              " 570,\n",
              " 231,\n",
              " 189,\n",
              " 102,\n",
              " 14,\n",
              " 20,\n",
              " 166,\n",
              " 2039,\n",
              " 168,\n",
              " 40,\n",
              " 2450,\n",
              " 5486,\n",
              " 3298]"
            ]
          },
          "metadata": {
            "tags": []
          },
          "execution_count": 8
        }
      ]
    },
    {
      "cell_type": "markdown",
      "metadata": {
        "id": "iNq36usAXNbJ",
        "colab_type": "text"
      },
      "source": [
        "注意這其實是一個 list 而不是 array, 原因是每筆資料 (每段影評) 長度自然是不一樣的! 我們檢查一下前 10 筆的長度就可以知道。"
      ]
    },
    {
      "cell_type": "code",
      "metadata": {
        "id": "IbAU1GP-XNbJ",
        "colab_type": "code",
        "outputId": "c18a07df-c15d-4899-a0c3-2032bc2a6bb9",
        "colab": {
          "base_uri": "https://localhost:8080/",
          "height": 35
        }
      },
      "source": [
        "type(x_train[99])"
      ],
      "execution_count": 9,
      "outputs": [
        {
          "output_type": "execute_result",
          "data": {
            "text/plain": [
              "list"
            ]
          },
          "metadata": {
            "tags": []
          },
          "execution_count": 9
        }
      ]
    },
    {
      "cell_type": "code",
      "metadata": {
        "id": "odjoA3SgXNbM",
        "colab_type": "code",
        "outputId": "d5df2d00-be4c-42c1-d01a-027acae9803a",
        "colab": {
          "base_uri": "https://localhost:8080/",
          "height": 35
        }
      },
      "source": [
        "for i in range(10):\n",
        "    print(len(x_train[i]), end=', ')"
      ],
      "execution_count": 10,
      "outputs": [
        {
          "output_type": "stream",
          "text": [
            "218, 189, 141, 550, 147, 43, 123, 562, 233, 130, "
          ],
          "name": "stdout"
        }
      ]
    },
    {
      "cell_type": "markdown",
      "metadata": {
        "id": "fEHRSf-RXNbO",
        "colab_type": "text"
      },
      "source": [
        "最後要說明的是, 在每筆輸入資料的數字都代表英文的一個單字。編號方式是在我們資料庫裡所有文字的排序: 也就是出現頻率越高, 代表的數字就越小。"
      ]
    },
    {
      "cell_type": "markdown",
      "metadata": {
        "id": "_ZHoCBddXNbP",
        "colab_type": "text"
      },
      "source": [
        "### 2.2 輸出資料部份\n",
        "\n",
        "輸出方面應該很容易想像, 我們來看看前 10 筆。結果自然就是 0 (負評) 或 1 (正評)。"
      ]
    },
    {
      "cell_type": "code",
      "metadata": {
        "id": "Tiljj6zFXNbQ",
        "colab_type": "code",
        "outputId": "cea0b1eb-47a5-4eff-ec26-7af9f2959e72",
        "colab": {
          "base_uri": "https://localhost:8080/",
          "height": 35
        }
      },
      "source": [
        "y_train[:10]"
      ],
      "execution_count": 11,
      "outputs": [
        {
          "output_type": "execute_result",
          "data": {
            "text/plain": [
              "array([1, 0, 0, 1, 0, 0, 1, 0, 1, 0])"
            ]
          },
          "metadata": {
            "tags": []
          },
          "execution_count": 11
        }
      ]
    },
    {
      "cell_type": "markdown",
      "metadata": {
        "id": "LfNM9x5TXNbS",
        "colab_type": "text"
      },
      "source": [
        "### 2.3 送入神經網路的輸入處理\n",
        "\n",
        "雖然 RNN 是可以處理不同長度的輸入, 在寫程式時我們還是要\n",
        "\n",
        "* 設輸入文字長度的上限\n",
        "* 把每段文字都弄成一樣長, 太短的後面補上 0"
      ]
    },
    {
      "cell_type": "code",
      "metadata": {
        "id": "f1Yr1G2HXNbT",
        "colab_type": "code",
        "colab": {}
      },
      "source": [
        "from keras.preprocessing import sequence"
      ],
      "execution_count": 0,
      "outputs": []
    },
    {
      "cell_type": "code",
      "metadata": {
        "id": "amdQIGQxXNbV",
        "colab_type": "code",
        "colab": {}
      },
      "source": [
        "x_train = sequence.pad_sequences(x_train, maxlen=100)\n",
        "x_test = sequence.pad_sequences(x_test, maxlen=100)"
      ],
      "execution_count": 0,
      "outputs": []
    },
    {
      "cell_type": "code",
      "metadata": {
        "id": "zb8wjA8CXNbY",
        "colab_type": "code",
        "outputId": "0c18fc40-fec8-474b-cd2a-8555f39559f9",
        "colab": {
          "base_uri": "https://localhost:8080/",
          "height": 35
        }
      },
      "source": [
        "x_train.shape"
      ],
      "execution_count": 14,
      "outputs": [
        {
          "output_type": "execute_result",
          "data": {
            "text/plain": [
              "(25000, 100)"
            ]
          },
          "metadata": {
            "tags": []
          },
          "execution_count": 14
        }
      ]
    },
    {
      "cell_type": "code",
      "metadata": {
        "id": "QDgpLy7JXNba",
        "colab_type": "code",
        "outputId": "efc4aa95-0ce3-40f7-998e-28a6d7bab842",
        "colab": {
          "base_uri": "https://localhost:8080/",
          "height": 191
        }
      },
      "source": [
        "x_train[99]"
      ],
      "execution_count": 15,
      "outputs": [
        {
          "output_type": "execute_result",
          "data": {
            "text/plain": [
              "array([  14,   15,   45,  619,   50,   71,    6,  171,  531,   15,   71,\n",
              "        424,    8,   30,  163, 6211,    4, 1629,  189,  212,  102,    5,\n",
              "         57,   31, 1498,   11,    4,  311,   13,  197,   15,   14,   20,\n",
              "         16, 1150, 1479,    5,   13,  161,  990,  692,    5, 1706,   12,\n",
              "         69,   77, 1194,    8, 3245, 2001,  553,   67,   14,   20,   48,\n",
              "         25,  423,   13,  131,  124,   51,   25,  122,  236, 1506,  198,\n",
              "          4,   64,  552,    7,  415,   37,   62,  169,   14,   20,   60,\n",
              "       2602,  629,    5,  615,   14,    9,    8,   25, 1230, 3765,  570,\n",
              "        231,  189,  102,   14,   20,  166, 2039,  168,   40, 2450, 5486,\n",
              "       3298], dtype=int32)"
            ]
          },
          "metadata": {
            "tags": []
          },
          "execution_count": 15
        }
      ]
    },
    {
      "cell_type": "markdown",
      "metadata": {
        "id": "vHOH21WXXNbd",
        "colab_type": "text"
      },
      "source": [
        "至此我們可以來寫我們的第一個 RNN 了!"
      ]
    },
    {
      "cell_type": "markdown",
      "metadata": {
        "id": "RG6n5RbrXNbe",
        "colab_type": "text"
      },
      "source": [
        "## 3. 打造你的 RNN\n",
        "\n",
        "這裡我們選用 LSTM, 基本上用哪種 RNN 寫法都是差不多的!"
      ]
    },
    {
      "cell_type": "markdown",
      "metadata": {
        "id": "J2odBPzdXNbe",
        "colab_type": "text"
      },
      "source": [
        "### 3.1 決定神經網路架構\n",
        "\n",
        "* 先將 10000 維的文字壓到 128 維\n",
        "* 然後用 128 個 LSTM\n",
        "* 最後一個 output, 直接用 sigmoid 送出"
      ]
    },
    {
      "cell_type": "markdown",
      "metadata": {
        "id": "M6x16hfGXNbf",
        "colab_type": "text"
      },
      "source": [
        "### 3.2 建構我們的神經網路\n",
        "\n",
        "文字我們用 1-hot 表示是很標準的方式, 不過要注意的是, 因為我們指定要 1 萬個字, 所以每個字是用 1 萬維的向量表示! 這一來很浪費記憶空間, 二來字和字間基本上是沒有關係的。我們可以用某種「合理」的方式, 把字壓到比較小的維度, 這些向量又代表某些意思 (比如說兩個字代表的向量角度小表相關程度大) 等等。\n",
        "\n",
        "這聽來很複雜的事叫 \"word embedding\", 而事實上 Keras 會幫我們做。我們只需告訴 Keras 原來最大的數字是多少 (10000), 還有我們打算壓到幾維 (128)。"
      ]
    },
    {
      "cell_type": "code",
      "metadata": {
        "id": "rpR3dVnQXNbg",
        "colab_type": "code",
        "colab": {}
      },
      "source": [
        "from keras.models import Sequential\n",
        "from keras.layers import Dense, Embedding\n",
        "from keras.layers import LSTM"
      ],
      "execution_count": 0,
      "outputs": []
    },
    {
      "cell_type": "code",
      "metadata": {
        "nbpresent": {
          "id": "924cda44-78f6-4bbc-a669-68e5bdeb4704"
        },
        "id": "3gYRd_QPXNbj",
        "colab_type": "code",
        "colab": {
          "base_uri": "https://localhost:8080/",
          "height": 72
        },
        "outputId": "da3c2235-af5b-44db-fc0c-d1ccf8bf160d"
      },
      "source": [
        "model = Sequential()"
      ],
      "execution_count": 17,
      "outputs": [
        {
          "output_type": "stream",
          "text": [
            "WARNING:tensorflow:From /usr/local/lib/python3.6/dist-packages/keras/backend/tensorflow_backend.py:66: The name tf.get_default_graph is deprecated. Please use tf.compat.v1.get_default_graph instead.\n",
            "\n"
          ],
          "name": "stdout"
        }
      ]
    },
    {
      "cell_type": "code",
      "metadata": {
        "nbpresent": {
          "id": "654a314d-0144-4421-a293-3586e91cfedd"
        },
        "id": "s3MI93SXXNbm",
        "colab_type": "code",
        "colab": {
          "base_uri": "https://localhost:8080/",
          "height": 107
        },
        "outputId": "9ce54c66-b062-44e9-b840-4903685fdcb3"
      },
      "source": [
        "model.add(Embedding(10000, 128))"
      ],
      "execution_count": 18,
      "outputs": [
        {
          "output_type": "stream",
          "text": [
            "WARNING:tensorflow:From /usr/local/lib/python3.6/dist-packages/keras/backend/tensorflow_backend.py:541: The name tf.placeholder is deprecated. Please use tf.compat.v1.placeholder instead.\n",
            "\n",
            "WARNING:tensorflow:From /usr/local/lib/python3.6/dist-packages/keras/backend/tensorflow_backend.py:4432: The name tf.random_uniform is deprecated. Please use tf.random.uniform instead.\n",
            "\n"
          ],
          "name": "stdout"
        }
      ]
    },
    {
      "cell_type": "markdown",
      "metadata": {
        "id": "nWj-4ChuXNbo",
        "colab_type": "text"
      },
      "source": [
        "LSTM 層, 我們做 150 個 LSTM Cells。"
      ]
    },
    {
      "cell_type": "code",
      "metadata": {
        "nbpresent": {
          "id": "b8e3a157-5933-4b63-b156-fe4bdf8905a4"
        },
        "id": "MmFrbS5cXNbp",
        "colab_type": "code",
        "colab": {}
      },
      "source": [
        "model.add(LSTM(150))"
      ],
      "execution_count": 0,
      "outputs": []
    },
    {
      "cell_type": "markdown",
      "metadata": {
        "id": "vkffvv_ZXNbr",
        "colab_type": "text"
      },
      "source": [
        "單純透過 sigmoid 輸出。"
      ]
    },
    {
      "cell_type": "code",
      "metadata": {
        "nbpresent": {
          "id": "18b410f8-45b0-4188-95c2-c30cc76d07b8"
        },
        "id": "smmdKsmYXNbr",
        "colab_type": "code",
        "colab": {}
      },
      "source": [
        "model.add(Dense(1, activation='sigmoid'))"
      ],
      "execution_count": 0,
      "outputs": []
    },
    {
      "cell_type": "markdown",
      "metadata": {
        "id": "hJD_RBRzXNbt",
        "colab_type": "text"
      },
      "source": [
        "### 3.3 組裝\n",
        "\n",
        "這次我們用 binary_crossentropy 做我們的 loss function, 另外用一個很潮的 Adam 學習法。"
      ]
    },
    {
      "cell_type": "code",
      "metadata": {
        "nbpresent": {
          "id": "9593a32d-9089-48fb-8e65-f39cb0137f08"
        },
        "id": "FsEXuWkaXNbu",
        "colab_type": "code",
        "colab": {
          "base_uri": "https://localhost:8080/",
          "height": 159
        },
        "outputId": "51926fce-eca7-40fa-840e-246f32b446e9"
      },
      "source": [
        "model.compile(loss='binary_crossentropy', \n",
        "              optimizer='adam', \n",
        "              metrics=['accuracy'])"
      ],
      "execution_count": 21,
      "outputs": [
        {
          "output_type": "stream",
          "text": [
            "WARNING:tensorflow:From /usr/local/lib/python3.6/dist-packages/keras/optimizers.py:793: The name tf.train.Optimizer is deprecated. Please use tf.compat.v1.train.Optimizer instead.\n",
            "\n",
            "WARNING:tensorflow:From /usr/local/lib/python3.6/dist-packages/keras/backend/tensorflow_backend.py:3657: The name tf.log is deprecated. Please use tf.math.log instead.\n",
            "\n",
            "WARNING:tensorflow:From /usr/local/lib/python3.6/dist-packages/tensorflow_core/python/ops/nn_impl.py:183: where (from tensorflow.python.ops.array_ops) is deprecated and will be removed in a future version.\n",
            "Instructions for updating:\n",
            "Use tf.where in 2.0, which has the same broadcast rule as np.where\n"
          ],
          "name": "stdout"
        }
      ]
    },
    {
      "cell_type": "markdown",
      "metadata": {
        "id": "2TMamczLXNbw",
        "colab_type": "text"
      },
      "source": [
        "## 4. 訓練"
      ]
    },
    {
      "cell_type": "markdown",
      "metadata": {
        "id": "d4SOG7XiXNbx",
        "colab_type": "text"
      },
      "source": [
        "我們用的 embedding 中, 會被 batch_size 影響輸入。輸入的 shape 會是\n",
        "\n",
        "    (batch_size, 每筆上限)\n",
        "    \n",
        "也就是 (32,100) 輸出是 (32,100,128), 其中 128 是我們決定要壓成幾維的向量。"
      ]
    },
    {
      "cell_type": "code",
      "metadata": {
        "nbpresent": {
          "id": "29d4727a-4b5a-463c-9cc7-1a7df697e774"
        },
        "id": "DWtsKhfyXNbx",
        "colab_type": "code",
        "outputId": "e381f112-86e2-4b81-8a56-345c63dd337b",
        "colab": {
          "base_uri": "https://localhost:8080/",
          "height": 852
        }
      },
      "source": [
        "model.fit(x_train, y_train, \n",
        "          batch_size=32, \n",
        "          epochs=15)"
      ],
      "execution_count": 22,
      "outputs": [
        {
          "output_type": "stream",
          "text": [
            "WARNING:tensorflow:From /usr/local/lib/python3.6/dist-packages/keras/backend/tensorflow_backend.py:1033: The name tf.assign_add is deprecated. Please use tf.compat.v1.assign_add instead.\n",
            "\n",
            "WARNING:tensorflow:From /usr/local/lib/python3.6/dist-packages/keras/backend/tensorflow_backend.py:1020: The name tf.assign is deprecated. Please use tf.compat.v1.assign instead.\n",
            "\n",
            "WARNING:tensorflow:From /usr/local/lib/python3.6/dist-packages/keras/backend/tensorflow_backend.py:3005: The name tf.Session is deprecated. Please use tf.compat.v1.Session instead.\n",
            "\n",
            "Epoch 1/15\n",
            "WARNING:tensorflow:From /usr/local/lib/python3.6/dist-packages/keras/backend/tensorflow_backend.py:190: The name tf.get_default_session is deprecated. Please use tf.compat.v1.get_default_session instead.\n",
            "\n",
            "WARNING:tensorflow:From /usr/local/lib/python3.6/dist-packages/keras/backend/tensorflow_backend.py:197: The name tf.ConfigProto is deprecated. Please use tf.compat.v1.ConfigProto instead.\n",
            "\n",
            "WARNING:tensorflow:From /usr/local/lib/python3.6/dist-packages/keras/backend/tensorflow_backend.py:207: The name tf.global_variables is deprecated. Please use tf.compat.v1.global_variables instead.\n",
            "\n",
            "WARNING:tensorflow:From /usr/local/lib/python3.6/dist-packages/keras/backend/tensorflow_backend.py:216: The name tf.is_variable_initialized is deprecated. Please use tf.compat.v1.is_variable_initialized instead.\n",
            "\n",
            "WARNING:tensorflow:From /usr/local/lib/python3.6/dist-packages/keras/backend/tensorflow_backend.py:223: The name tf.variables_initializer is deprecated. Please use tf.compat.v1.variables_initializer instead.\n",
            "\n",
            "25000/25000 [==============================] - 104s 4ms/step - loss: 0.4437 - acc: 0.7873\n",
            "Epoch 2/15\n",
            "25000/25000 [==============================] - 93s 4ms/step - loss: 0.2679 - acc: 0.8917\n",
            "Epoch 3/15\n",
            "25000/25000 [==============================] - 92s 4ms/step - loss: 0.1890 - acc: 0.9263\n",
            "Epoch 4/15\n",
            "25000/25000 [==============================] - 93s 4ms/step - loss: 0.1323 - acc: 0.9504\n",
            "Epoch 5/15\n",
            "25000/25000 [==============================] - 93s 4ms/step - loss: 0.0931 - acc: 0.9682\n",
            "Epoch 6/15\n",
            "25000/25000 [==============================] - 92s 4ms/step - loss: 0.0782 - acc: 0.9746\n",
            "Epoch 7/15\n",
            "25000/25000 [==============================] - 92s 4ms/step - loss: 0.0602 - acc: 0.9805\n",
            "Epoch 8/15\n",
            "25000/25000 [==============================] - 92s 4ms/step - loss: 0.0409 - acc: 0.9868\n",
            "Epoch 9/15\n",
            "25000/25000 [==============================] - 92s 4ms/step - loss: 0.0342 - acc: 0.9895\n",
            "Epoch 10/15\n",
            "25000/25000 [==============================] - 92s 4ms/step - loss: 0.0249 - acc: 0.9920\n",
            "Epoch 11/15\n",
            "25000/25000 [==============================] - 92s 4ms/step - loss: 0.0247 - acc: 0.9925\n",
            "Epoch 12/15\n",
            "25000/25000 [==============================] - 92s 4ms/step - loss: 0.0259 - acc: 0.9916\n",
            "Epoch 13/15\n",
            "25000/25000 [==============================] - 92s 4ms/step - loss: 0.0150 - acc: 0.9955\n",
            "Epoch 14/15\n",
            "25000/25000 [==============================] - 91s 4ms/step - loss: 0.0142 - acc: 0.9961\n",
            "Epoch 15/15\n",
            "25000/25000 [==============================] - 92s 4ms/step - loss: 0.0121 - acc: 0.9966\n"
          ],
          "name": "stdout"
        },
        {
          "output_type": "execute_result",
          "data": {
            "text/plain": [
              "<keras.callbacks.History at 0x7f50448c0400>"
            ]
          },
          "metadata": {
            "tags": []
          },
          "execution_count": 22
        }
      ]
    },
    {
      "cell_type": "markdown",
      "metadata": {
        "id": "NQZSyZp_XNbz",
        "colab_type": "text"
      },
      "source": [
        "## 5. 檢視結果"
      ]
    },
    {
      "cell_type": "markdown",
      "metadata": {
        "id": "74s05FtHXNbz",
        "colab_type": "text"
      },
      "source": [
        "### 5.1 分數\n",
        "\n",
        "我們照例來看看測試資料的分數。"
      ]
    },
    {
      "cell_type": "code",
      "metadata": {
        "id": "ca_qZky3XNb0",
        "colab_type": "code",
        "outputId": "710ad1bf-7ce0-420b-8808-fdc4884a9c5d",
        "colab": {
          "base_uri": "https://localhost:8080/",
          "height": 35
        }
      },
      "source": [
        "score = model.evaluate(x_test, y_test)"
      ],
      "execution_count": 23,
      "outputs": [
        {
          "output_type": "stream",
          "text": [
            "25000/25000 [==============================] - 18s 701us/step\n"
          ],
          "name": "stdout"
        }
      ]
    },
    {
      "cell_type": "code",
      "metadata": {
        "id": "i_bPFm8XXNb2",
        "colab_type": "code",
        "outputId": "c281d2a0-0b2e-4a37-d096-7e84b5f8c093",
        "colab": {
          "base_uri": "https://localhost:8080/",
          "height": 52
        }
      },
      "source": [
        "print('測試資料的 loss:', score[0])\n",
        "print('測試資料正確率:', score[1])"
      ],
      "execution_count": 24,
      "outputs": [
        {
          "output_type": "stream",
          "text": [
            "測試資料的 loss: 0.9697090541815758\n",
            "測試資料正確率: 0.82756\n"
          ],
          "name": "stdout"
        }
      ]
    },
    {
      "cell_type": "markdown",
      "metadata": {
        "id": "F5sI3T5cXNb5",
        "colab_type": "text"
      },
      "source": [
        "### 5.2 儲存結果\n",
        "\n",
        "這裡有 8 成我們可以正確分辨, 看來還不差, 照例我們把結果存檔。"
      ]
    },
    {
      "cell_type": "code",
      "metadata": {
        "nbpresent": {
          "id": "dbc1a7a3-89db-4cbf-872c-b8ebcd035037"
        },
        "id": "Vz1bYeNBXNb5",
        "colab_type": "code",
        "colab": {}
      },
      "source": [
        "model_json = model.to_json()\n",
        "open('imdb_model_architecture.json', \n",
        "     'w').write(model_json)\n",
        "model.save_weights('imdb_model_weights.h5')"
      ],
      "execution_count": 0,
      "outputs": []
    },
    {
      "cell_type": "code",
      "metadata": {
        "id": "Mo0iu639jul_",
        "colab_type": "code",
        "colab": {
          "base_uri": "https://localhost:8080/",
          "height": 295
        },
        "outputId": "1e601682-8a9c-475c-a907-0109b72d9d77"
      },
      "source": [
        "! nvidia-smi"
      ],
      "execution_count": 27,
      "outputs": [
        {
          "output_type": "stream",
          "text": [
            "Thu Jan  2 14:00:47 2020       \n",
            "+-----------------------------------------------------------------------------+\n",
            "| NVIDIA-SMI 440.44       Driver Version: 418.67       CUDA Version: 10.1     |\n",
            "|-------------------------------+----------------------+----------------------+\n",
            "| GPU  Name        Persistence-M| Bus-Id        Disp.A | Volatile Uncorr. ECC |\n",
            "| Fan  Temp  Perf  Pwr:Usage/Cap|         Memory-Usage | GPU-Util  Compute M. |\n",
            "|===============================+======================+======================|\n",
            "|   0  Tesla P100-PCIE...  Off  | 00000000:00:04.0 Off |                    0 |\n",
            "| N/A   42C    P0    35W / 250W |    517MiB / 16280MiB |      0%      Default |\n",
            "+-------------------------------+----------------------+----------------------+\n",
            "                                                                               \n",
            "+-----------------------------------------------------------------------------+\n",
            "| Processes:                                                       GPU Memory |\n",
            "|  GPU       PID   Type   Process name                             Usage      |\n",
            "|=============================================================================|\n",
            "+-----------------------------------------------------------------------------+\n"
          ],
          "name": "stdout"
        }
      ]
    },
    {
      "cell_type": "code",
      "metadata": {
        "id": "eUF8EwvfjxC-",
        "colab_type": "code",
        "colab": {}
      },
      "source": [
        ""
      ],
      "execution_count": 0,
      "outputs": []
    }
  ]
}