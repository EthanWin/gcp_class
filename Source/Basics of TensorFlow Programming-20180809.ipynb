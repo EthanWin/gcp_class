{
 "cells": [
  {
   "cell_type": "markdown",
   "metadata": {},
   "source": [
    "# Basics of TensorFlow Programming\n",
    "###  C. Alex Hu\n",
    "###  2018/08/09 @ bigDataSpark Forum"
   ]
  },
  {
   "cell_type": "markdown",
   "metadata": {},
   "source": [
    "##   \n",
    "## Import TensorFlow & run a version check..."
   ]
  },
  {
   "cell_type": "code",
   "execution_count": 22,
   "metadata": {},
   "outputs": [
    {
     "name": "stdout",
     "output_type": "stream",
     "text": [
      "1.8.0\n"
     ]
    }
   ],
   "source": [
    "import tensorflow as tf\n",
    "print(tf.__version__)"
   ]
  },
  {
   "cell_type": "markdown",
   "metadata": {},
   "source": [
    "##  1. Build a graph...\n",
    "> ###  **tf.constant** \n",
    "`tf.constant(\n",
    "    value,\n",
    "    dtype=None,\n",
    "    shape=None,\n",
    "    name='Const',\n",
    "    verify_shape=False_\n",
    ")`\n",
    "+ Creates a constant tensor.\n",
    "+ The resulting tensor is populated with values of type _dtype_, as specified by arguments _value_ and (optionally) _shape_ (see examples below).\n",
    "+  https://www.tensorflow.org/api_docs/python/tf/constant"
   ]
  },
  {
   "cell_type": "code",
   "execution_count": 60,
   "metadata": {},
   "outputs": [],
   "source": [
    "# Build a graph...\n",
    "h  = tf.constant(\"Hello\")\n",
    "TF = tf.constant(\"TensorFlow!\")\n",
    "hTF = h + ' ' + TF\n",
    "\n",
    "# Constant 1-D Tensor populated with value list.\n",
    "fibo = tf.constant([1, 1, 2, 3, 5, 8, 13, 21]) \n",
    "\n",
    "# Constant 3-D tensor populated with scalar value 1.0.\n",
    "allOneMatrix = tf.constant(1.0, shape=[3, 3]) "
   ]
  },
  {
   "cell_type": "markdown",
   "metadata": {},
   "source": [
    "## 2. Launch the graph in a session...\n",
    "> ###  **tf.Session** \n",
    "+ Class **Session** - A class for running TensorFlow operations.\n",
    "https://www.tensorflow.org/api_docs/python/tf/Session\n",
    "+ Defined in `tensorflow/python/client/session.py` :\n",
    "    + https://github.com/tensorflow/tensorflow/blob/r1.10/tensorflow/python/client/session.py \n",
    "+ See the guides: Running Graphs > Session management, Running Graphs \n",
    "    +  https://www.tensorflow.org/api_guides/python/client\n",
    "    \n",
    "+ A *Session* object encapsulates the environment in which *Operation* objects are executed, and *Tensor* objects are evaluated.\n",
    "+ A session may own resources, such as **tf.Variable**, **tf.QueueBase**, and **tf.ReaderBase**. It is important to release these resources when they are no longer required. \n",
    "+ To do this, either invoke the **tf.Session.close** method on the session, or use the session as a context manager."
   ]
  },
  {
   "cell_type": "markdown",
   "metadata": {},
   "source": [
    "### < Example 1 > Using the `close()` method."
   ]
  },
  {
   "cell_type": "code",
   "execution_count": 61,
   "metadata": {},
   "outputs": [
    {
     "name": "stdout",
     "output_type": "stream",
     "text": [
      "b'Hello TensorFlow!'\n",
      "\n",
      "Fibonacci numbers =  [ 1  1  2  3  5  8 13 21]\n",
      "\n",
      "All-zero 3D Tensor : \n",
      " [[1. 1. 1.]\n",
      " [1. 1. 1.]\n",
      " [1. 1. 1.]]\n"
     ]
    }
   ],
   "source": [
    "##  < Example 1 > Using the `close()` method.\n",
    "##\n",
    "# Launch the graph in a session.\n",
    "sess = tf.Session()\n",
    "\n",
    "# Evaluate the tensor `c`.\n",
    "print(sess.run(hTF), end='\\n\\n')\n",
    "print('Fibonacci numbers = ', sess.run(fibo), end='\\n\\n')\n",
    "print('All-zero 3D Tensor : \\n', sess.run(allOneMatrix))\n",
    "\n",
    "# Using the `close()` method.\n",
    "sess.close()"
   ]
  },
  {
   "cell_type": "markdown",
   "metadata": {},
   "source": [
    "###  < Example 2 > Using the context manager."
   ]
  },
  {
   "cell_type": "code",
   "execution_count": 62,
   "metadata": {},
   "outputs": [
    {
     "name": "stdout",
     "output_type": "stream",
     "text": [
      "b'Hello TensorFlow!'\n",
      "\n",
      "Fibonacci numbers = [ 1  1  2  3  5  8 13 21]\n",
      "\n",
      "All-One 3D Tensor : \n",
      " [[1. 1. 1.]\n",
      " [1. 1. 1.]\n",
      " [1. 1. 1.]]\n"
     ]
    }
   ],
   "source": [
    "##  < Example 2 > Using the context manager.\n",
    "##\n",
    "# Launch the graph in another session by using the context manager.\n",
    "with tf.Session() as sess:\n",
    "    azm = sess.run(allOneMatrix)\n",
    "    print(sess.run(hTF), end='\\n\\n')\n",
    "    print('Fibonacci numbers = ', end='')\n",
    "    print(sess.run(fibo), end='\\n\\n')\n",
    "    \n",
    "print('All-One 3D Tensor : \\n', azm)"
   ]
  },
  {
   "cell_type": "markdown",
   "metadata": {},
   "source": [
    "+ ###  Outputs in TensorFlow..."
   ]
  },
  {
   "cell_type": "code",
   "execution_count": 63,
   "metadata": {},
   "outputs": [
    {
     "name": "stdout",
     "output_type": "stream",
     "text": [
      "Tensor(\"add_27:0\", shape=(), dtype=string)\n"
     ]
    }
   ],
   "source": [
    "print(hTF)  #  Output in TensorFlow"
   ]
  },
  {
   "cell_type": "code",
   "execution_count": 64,
   "metadata": {},
   "outputs": [
    {
     "name": "stdout",
     "output_type": "stream",
     "text": [
      "Tensor(\"Const_80:0\", shape=(3, 3), dtype=float32)\n"
     ]
    }
   ],
   "source": [
    "print(allOneMatrix)  #  Output in TensorFlow"
   ]
  },
  {
   "cell_type": "code",
   "execution_count": 65,
   "metadata": {},
   "outputs": [
    {
     "name": "stdout",
     "output_type": "stream",
     "text": [
      "Tensor(\"Const_79:0\", shape=(8,), dtype=int32)\n"
     ]
    }
   ],
   "source": [
    "print(fibo)  #  Output in TensorFlow"
   ]
  },
  {
   "cell_type": "markdown",
   "metadata": {},
   "source": [
    "> ###  `run` method\n",
    "`run(\n",
    "    fetches,\n",
    "    feed_dict=None,\n",
    "    options=None,\n",
    "    run_metadata=None\n",
    ")`\n",
    "+ Runs operations and evaluates tensors in `fetches`.\n",
    "+ The `fetches` argument may be a single graph element, or an arbitrarily nested list, tuple, namedtuple, dict, or OrderedDict containing graph elements at its leaves. \n",
    "+ Ref : https://www.tensorflow.org/api_docs/python/tf/Session\n",
    "\n",
    "+ ### The session object may call the `run` mehod to act as an interface to run parts of the computation graph externally. For example :"
   ]
  },
  {
   "cell_type": "code",
   "execution_count": 66,
   "metadata": {},
   "outputs": [
    {
     "name": "stdout",
     "output_type": "stream",
     "text": [
      "[ 1  1  2  3  5  8 13 21]\n"
     ]
    }
   ],
   "source": [
    "with tf.Session() as sess:\n",
    "    fibo_num = sess.run(fibo)\n",
    "    \n",
    "print(fibo_num)"
   ]
  },
  {
   "cell_type": "code",
   "execution_count": 67,
   "metadata": {},
   "outputs": [
    {
     "name": "stdout",
     "output_type": "stream",
     "text": [
      "b'S'\n",
      "\n",
      "[10 20]\n",
      "\n",
      "[array([10, 20]), array([1., 2.], dtype=float32)]\n",
      "\n",
      "{'k1': MyData(a=array([10, 20]), b=array([1., 2.], dtype=float32)), 'k2': [array([1., 2.], dtype=float32), array([10, 20])]}\n",
      "\n",
      "{'k1': MyData(a=array([10, 20]), b=array([1., 2.], dtype=float32)), 'k2': [array([1., 2.], dtype=float32), array([10, 20])]}\n"
     ]
    }
   ],
   "source": [
    "import collections\n",
    "MyData = collections.namedtuple('MyData', ['a', 'b'])\n",
    "\n",
    "    \n",
    "with tf.Session() as sess:\n",
    "    s = tf.constant('S')\n",
    "    a = tf.constant([10, 20])\n",
    "    b = tf.constant([1.0, 2.0])\n",
    "    v = sess.run(s)       # 'fetches' can be a singleton\n",
    "    print(v, end='\\n\\n')\n",
    "    v = sess.run(a)       # v is the numpy array [10, 20] => 'fetches' can be a list.\n",
    "    print(v, end='\\n\\n')\n",
    "    v = sess.run([a, b])  # v is a Python list with 2 numpy arrays: the 1-D array [10, 20] and the 1-D array [1.0, 2.0]\n",
    "    print(v, end='\\n\\n')\n",
    "\n",
    "   # 'fetches' can be arbitrary lists, tuples, namedtuple, dicts:\n",
    "    v = sess.run({'k1': MyData(a, b), 'k2': [b, a]})\n",
    "    print(v, end='\\n\\n')\n",
    "   # v is a dict with\n",
    "   # v['k1'] is a MyData namedtuple with 'a' (the numpy array [10, 20]) and\n",
    "   # 'b' (the numpy array [1.0, 2.0])\n",
    "   # v['k2'] is a list with the numpy array [1.0, 2.0] and the numpy array\n",
    "   # [10, 20].\n",
    "\n",
    "print(v)"
   ]
  },
  {
   "cell_type": "markdown",
   "metadata": {
    "collapsed": true
   },
   "source": [
    "## 3. Create placeholders & variables ...\n",
    "> ###  **tf.placeholder** \n",
    "`tf.placeholder(\n",
    "    dtype,\n",
    "    shape=None,\n",
    "    name=None\n",
    ")`\n",
    "+ Inserts a placeholder for a tensor that will be always fed.\n",
    "+ Defined in `tensorflow/python/ops/array_ops.py` :\n",
    "    + https://github.com/tensorflow/tensorflow/blob/r1.10/tensorflow/python/ops/array_ops.py \n",
    "+ See the guides: Inputs and Readers > Placeholders\n",
    "    +  https://www.tensorflow.org/api_guides/python/io_ops#Placeholders\n",
    "    \n",
    "+ NOTE : This tensor will produce an error if evaluated. Its value must be fed using the `feed_dict` optional argument to `Session.run()`, `Tensor.eval()`, or `Operation.run()`."
   ]
  },
  {
   "cell_type": "code",
   "execution_count": 116,
   "metadata": {},
   "outputs": [
    {
     "name": "stdout",
     "output_type": "stream",
     "text": [
      "[[260.89502 266.92953 256.42615 ... 263.5737  254.27504 263.53577]\n",
      " [254.06232 260.62234 255.12756 ... 264.32306 257.31418 259.14432]\n",
      " [248.98097 255.96733 254.58174 ... 255.02507 250.47562 256.64432]\n",
      " ...\n",
      " [254.1193  259.61215 249.23174 ... 262.22946 254.6898  260.9588 ]\n",
      " [259.4     261.8088  257.0362  ... 264.70444 250.2341  256.78165]\n",
      " [259.36758 260.18564 260.03418 ... 262.37463 252.2392  262.68872]]\n"
     ]
    }
   ],
   "source": [
    "# Build a graph...\n",
    "import numpy as np\n",
    "x = tf.placeholder(tf.float32, shape=(1024, 1024))\n",
    "y = tf.matmul(x, x)\n",
    "\n",
    "# Launch the built graph in a session...\n",
    "with tf.Session() as sess:\n",
    "  ##  print(sess.run(y))  # ERROR: will fail because x was not fed.\n",
    "\n",
    "  rand_array = np.random.rand(1024, 1024)\n",
    "  print(sess.run(y, feed_dict={x: rand_array}))  # Will succeed."
   ]
  },
  {
   "cell_type": "markdown",
   "metadata": {},
   "source": [
    "> ###  **tf.Variable** \n",
    "+ Class **Variable** \n",
    "https://www.tensorflow.org/api_docs/python/tf/Variable\n",
    "+ Defined in `tensorflow/python/ops/variables.py` :\n",
    "    + https://github.com/tensorflow/tensorflow/blob/r1.10/tensorflow/python/ops/variables.py \n",
    "+ See the guides: Variables > Variables \n",
    "    +  https://www.tensorflow.org/api_guides/python/state_ops#Variables\n",
    "    \n",
    "+ A variable maintains state in the graph across calls to **`run()`** method. You add a variable to the graph by constructing an instance of the class Variable.\n",
    "\n",
    "+ The **`Variable()`** constructor requires an initial value for the variable, which can be a `Tensor` of any type and shape. "
   ]
  },
  {
   "cell_type": "code",
   "execution_count": 111,
   "metadata": {},
   "outputs": [
    {
     "name": "stdout",
     "output_type": "stream",
     "text": [
      " w : \n",
      " [[-0.8113182   1.4845988   0.06532937]\n",
      " [-2.4427042   0.0992484   0.5912243 ]]\n",
      " x =  [[0.35 0.8 ]]\n",
      "\n",
      " a = w * x =   [[-2.2381248   0.5990083   0.49584472]]\n",
      "\t b =   [[-0.8113182   1.4845988   0.06532937]]\n",
      "\n",
      " z = w*x + b =  [[-3.049443   2.0836072  0.5611741]]\n",
      "\n",
      " y = Sigmoid(z) =  [[0.04524153 0.88929963 0.6367242 ]]\n"
     ]
    }
   ],
   "source": [
    "# Build a graph...\n",
    "# Create two variables.\n",
    "w = tf.Variable(tf.random_normal([2, 3], stddev=1, seed=1))\n",
    "b = tf.Variable(tf.random_normal([1, 3], stddev=1, seed=1))\n",
    "\n",
    "# Generate a placeholder.\n",
    "x = tf.placeholder(tf.float32, shape=(None, 2), name='input')\n",
    "\n",
    "# Use the variables in the graph like any Tensor.\n",
    "a = tf.matmul(x, w)              #  tf.matmul(x, w)  =>  a = x * w  :  matrix multiplication\n",
    "z = tf.add(a, b)                 #  tf.add(a, b)  =>  a + b\n",
    "y = tf.sigmoid(z)                #  Computing Sigmoid Function... \n",
    "d = tf.constant([[0.35, 0.8]])   #  a 2d tensor for x : 1x2\n",
    "\n",
    "# Launch the built graph in a session...\n",
    "with tf.Session() as sess:\n",
    "    sess.run(w.initializer)\n",
    "    sess.run(b.initializer)\n",
    "    print(' w : \\n', sess.run(w))\n",
    "    print(' x = ', sess.run(d))\n",
    "    print('\\n a = w * x =  ', sess.run(a, feed_dict={x: sess.run(d)}))\n",
    "    print('\\t b =  ', sess.run(b))\n",
    "    print('\\n z = w*x + b = ', sess.run(z, feed_dict={x: sess.run(d)}))\n",
    "    print('\\n y = Sigmoid(z) = ', sess.run(y, feed_dict={x: sess.run(d)}))"
   ]
  },
  {
   "cell_type": "markdown",
   "metadata": {},
   "source": [
    "> ###  Q :  How to check if the answer above is correct or not?\n",
    "[ Hint ] : \n",
    "+ `from math import exp`\n",
    "+ #### Sigmoid Function :\n",
    "    + #### $ \\sigma(z) = 1\\ /\\ [1+exp(-z)] $"
   ]
  },
  {
   "cell_type": "markdown",
   "metadata": {},
   "source": [
    "  \n",
    "##  [ Project ] : Hand-written Digits Recognition  -  `MNIST` dataset\n",
    "#### Reference :  \n",
    "+ Tom Hope, Yehezkel S. Resheff, and Itay Lieder, \"**Learning TensorFlow : A Guide to Building Deep Learning Systems**,\" Chapter 2, Example 2-2, O'Reilly, 2017. https://goo.gl/iEmehh\n",
    "+ Download the code from GitHub : https://github.com/gigwegbe/Learning-TensorFlow"
   ]
  },
  {
   "cell_type": "markdown",
   "metadata": {},
   "source": [
    "> ## Two useful websites from Google :\n",
    "+ ### [ Colaboratory ]  -  https://colab.research.google.com/notebooks/welcome.ipynb\n",
    "+ ### [ Google Codelabs 學習網站 ] - TensorFlow and deep learning, without a PhD :\n",
    "https://codelabs.developers.google.com/codelabs/cloud-tensorflow-mnist/#0"
   ]
  },
  {
   "cell_type": "code",
   "execution_count": null,
   "metadata": {},
   "outputs": [],
   "source": []
  }
 ],
 "metadata": {
  "kernelspec": {
   "display_name": "Python 3",
   "language": "python",
   "name": "python3"
  },
  "language_info": {
   "codemirror_mode": {
    "name": "ipython",
    "version": 3
   },
   "file_extension": ".py",
   "mimetype": "text/x-python",
   "name": "python",
   "nbconvert_exporter": "python",
   "pygments_lexer": "ipython3",
   "version": "3.6.4"
  }
 },
 "nbformat": 4,
 "nbformat_minor": 2
}
